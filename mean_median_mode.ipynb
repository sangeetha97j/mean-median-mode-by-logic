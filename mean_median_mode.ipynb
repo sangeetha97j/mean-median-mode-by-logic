{
 "cells": [
  {
   "cell_type": "code",
   "execution_count": 9,
   "id": "4b90e5b4",
   "metadata": {},
   "outputs": [
    {
     "name": "stdout",
     "output_type": "stream",
     "text": [
      "Enter multiple values: 5,8,7,1,2,6,4,3,5,1,2\n",
      "total is  44\n",
      "the mean is  4.0\n",
      "ascending order for the set\n",
      "[1, 1, 2, 2, 3, 4, 5, 5, 6, 7, 8]\n",
      "median for odd number of digits is 4\n",
      "the mode for the given set of numbers  {1, 2, 5}\n"
     ]
    }
   ],
   "source": [
    "x1= list(map(int, input(\"Enter multiple values: \").split(\",\")))\n",
    "total=0\n",
    "for i in x1:\n",
    "    total=total+i\n",
    "print(\"total is \",total)\n",
    "print(\"the mean is \",(total/len(x1)))\n",
    "\n",
    "print(\"ascending order for the set\")\n",
    "y=sorted(x1)\n",
    "print(y)\n",
    "if len(y)%2==0:\n",
    "        m1=int(len(y)/2)\n",
    "        median=(y[m1-1]+y[m1])/2\n",
    "        print(\"median for even number of digits is \",median)\n",
    "else:\n",
    "        m2=int((len(y)-1)/2)\n",
    "        median1=y[m2]\n",
    "        print(\"median for odd number of digits is\",median1)\n",
    "\n",
    "y=sorted(x1)\n",
    "z=set(y)\n",
    "d=list(z)\n",
    "list1=[]\n",
    "for num in d:\n",
    "        countnumbers=y.count(num)\n",
    "        list1.append(countnumbers)\n",
    "f={d[o]:list1[o] for o in range(len(d))}\n",
    "g=f.values()\n",
    "for i in g:\n",
    "        if i>1:\n",
    "            mode1 = {i for i in f if f[i]==max(g)}\n",
    "print(\"the mode for the given set of numbers \",mode1)"
   ]
  },
  {
   "cell_type": "code",
   "execution_count": null,
   "id": "d26e15ea",
   "metadata": {},
   "outputs": [],
   "source": []
  }
 ],
 "metadata": {
  "kernelspec": {
   "display_name": "Python 3 (ipykernel)",
   "language": "python",
   "name": "python3"
  },
  "language_info": {
   "codemirror_mode": {
    "name": "ipython",
    "version": 3
   },
   "file_extension": ".py",
   "mimetype": "text/x-python",
   "name": "python",
   "nbconvert_exporter": "python",
   "pygments_lexer": "ipython3",
   "version": "3.9.13"
  }
 },
 "nbformat": 4,
 "nbformat_minor": 5
}
